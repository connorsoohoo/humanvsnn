{
 "cells": [
  {
   "cell_type": "markdown",
   "metadata": {},
   "source": [
    "### Used to extract .jpg images from CIFAR10 of each class"
   ]
  },
  {
   "cell_type": "code",
   "execution_count": 52,
   "metadata": {},
   "outputs": [],
   "source": [
    "import numpy as np\n",
    "import matplotlib\n",
    "import matplotlib.pyplot as plt\n",
    "import torch\n",
    "import torchvision"
   ]
  },
  {
   "cell_type": "code",
   "execution_count": 53,
   "metadata": {},
   "outputs": [
    {
     "name": "stdout",
     "output_type": "stream",
     "text": [
      "Files already downloaded and verified\n"
     ]
    }
   ],
   "source": [
    "# load images\n",
    "testset = torchvision.datasets.CIFAR10(root='./data', train=False,\n",
    "                                       download=True)\n",
    "testdata = [np.array(img) for (img, y) in testset]\n",
    "testlabels = [y for (img, y) in testset]\n",
    "n_test = len(testdata)\n",
    "\n",
    "n_class = 10\n",
    "class_names = [\n",
    "    'airplane',\n",
    "    'automobile',\n",
    "    'bird',\n",
    "    'cat',\n",
    "    'deer',\n",
    "    'dog',\n",
    "    'frog',\n",
    "    'horse',\n",
    "    'ship',\n",
    "    'truck'\n",
    "]"
   ]
  },
  {
   "cell_type": "code",
   "execution_count": 54,
   "metadata": {},
   "outputs": [],
   "source": [
    "# TODO: Change this probability metric to be the\n",
    "# TODO: computer classification probabilities instead of \n",
    "# TODO: human classification probabilities.\n",
    "\n",
    "# load human labels (10000, 10)\n",
    "testprobs = np.load('cifar10h-probs.npy')\n",
    "\n",
    "# probability of the correct class\n",
    "testprobs_True = testprobs[np.arange(n_test), testlabels]"
   ]
  },
  {
   "cell_type": "code",
   "execution_count": 57,
   "metadata": {},
   "outputs": [],
   "source": [
    "def getImages(category=0, num_images=5, metric=None):\n",
    "    \"\"\"\n",
    "    Gets num_images number of images that are of\n",
    "    a certain category based on a certain metric\n",
    "    metric: None, \"best\", \"worst\"\n",
    "        None: In order grab num_images of that category\n",
    "        best: Most correctly classified\n",
    "        worst: Least correctly classified\n",
    "    \"\"\"\n",
    "    \n",
    "    # Also requires testdata, testlabels, testprobs_True\n",
    "    \n",
    "    n = len(testprobs_True)  \n",
    "\n",
    "    # Sort based on probabilities\n",
    "    # TODO: Change this probability metric to be the\n",
    "    # TODO: computer classification probabilities instead of \n",
    "    # TODO: human classification probabilities.\n",
    "    k=1000\n",
    "    ind_order = np.arange(n)\n",
    "    if metric and metric == \"worst\":\n",
    "        ind_order = np.argsort(testprobs_True)\n",
    "    if metric and metric == \"best\":\n",
    "        ind_order = np.argsort(testprobs_True)\n",
    "        ind_topk = ind_order[-k:]\n",
    "    else:\n",
    "        ind_topk = ind_order[:k]\n",
    "    \n",
    "    images = []\n",
    "\n",
    "    fig, axs = plt.subplots(1, num_images, sharey=True, figsize=(20, 5))\n",
    "    for i in range(n):\n",
    "        if len(images) >= num_images:\n",
    "            break\n",
    "        \n",
    "        ith = ind_topk[i]\n",
    "        if testlabels[ith] == category:\n",
    "\n",
    "            axs[len(images)].imshow(testdata[ith])\n",
    "            axs[len(images)].set_title(\"Prob = %.2f\" % testprobs_True[ith])\n",
    "            axs[len(images)].axis('off')\n",
    "            images.append(testdata[ith])\n",
    "            \n",
    "            # Output images to data file \n",
    "            # To use in psychophsyics experiment.\n",
    "            matplotlib.image.imsave('data/{0}{1}.png'.format(ith, class_names[category]), testdata[ith])\n",
    "        \n",
    "    plt.show()\n",
    "    return images\n",
    "        "
   ]
  },
  {
   "cell_type": "code",
   "execution_count": 59,
   "metadata": {},
   "outputs": [
    {
     "data": {
      "image/png": "[encoded data removed]",
      "text/plain": [
       "<Figure size 1440x360 with 5 Axes>"
      ]
     },
     "metadata": {
      "needs_background": "light"
     },
     "output_type": "display_data"
    }
   ],
   "source": [
    "imgs = getImages(metric='best')"
   ]
  },
  {
   "cell_type": "code",
   "execution_count": null,
   "metadata": {},
   "outputs": [],
   "source": []
  }
 ],
 "metadata": {
  "kernelspec": {
   "display_name": "Python 3",
   "language": "python",
   "name": "python3"
  },
  "language_info": {
   "codemirror_mode": {
    "name": "ipython",
    "version": 3
   },
   "file_extension": ".py",
   "mimetype": "text/x-python",
   "name": "python",
   "nbconvert_exporter": "python",
   "pygments_lexer": "ipython3",
   "version": "3.7.3"
  }
 },
 "nbformat": 4,
 "nbformat_minor": 2
}
