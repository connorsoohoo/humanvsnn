{
 "cells": [
  {
   "cell_type": "code",
   "execution_count": 1,
   "metadata": {
    "collapsed": true
   },
   "outputs": [],
   "source": [
    "import numpy as np\n",
    "import pandas as pd\n",
    "import torchvision\n",
    "import matplotlib.pyplot as plt\n",
    "\n",
    "from analysis import *"
   ]
  },
  {
   "cell_type": "code",
   "execution_count": 2,
   "metadata": {
    "collapsed": false
   },
   "outputs": [
    {
     "name": "stdout",
     "output_type": "stream",
     "text": [
      "Files already downloaded and verified\n",
      "Files already downloaded and verified\n"
     ]
    }
   ],
   "source": [
    "# load data and set variables\n",
    "# TODO: plot human and NN on the same plot, if possible\n",
    "\n",
    "human_anns = load_human_anns()\n",
    "NN_anns = load_NN_anns() # this function takes time"
   ]
  },
  {
   "cell_type": "code",
   "execution_count": 84,
   "metadata": {
    "collapsed": false
   },
   "outputs": [],
   "source": [
    "class_names = [\n",
    "    'plane',\n",
    "    'car',\n",
    "    'bird',\n",
    "    'cat',\n",
    "    'deer',\n",
    "    'dog',\n",
    "    'frog',\n",
    "    'horse',\n",
    "    'ship',\n",
    "    'truck'\n",
    "]\n",
    "n_classes = 10\n",
    "n_nets = 9\n",
    "n_participants = len(human_anns)\n",
    "participant_ids = [3, 4, 6, 9, 10, 11, 12, 13, 14, 15, 16]\n",
    "convs = [1, 2, 3]\n",
    "chs = [16, 32, 64]\n",
    "net_names = [\"SimpleNet_conv=%d_ch=%d\" % (i, j) for i in convs for j in chs]\n",
    "image_ids = list(human_anns[3].keys())\n",
    "image_labels = [entry['gt'] for entry in human_anns[3].values()]\n",
    "n_images = 60"
   ]
  },
  {
   "cell_type": "code",
   "execution_count": 85,
   "metadata": {
    "collapsed": false
   },
   "outputs": [
    {
     "name": "stdout",
     "output_type": "stream",
     "text": [
      "Files already downloaded and verified\n"
     ]
    }
   ],
   "source": [
    "testset = torchvision.datasets.CIFAR10(root='./data', train=False,\n",
    "                                       download=True)\n",
    "images = [np.array(img) for (img, y) in testset]"
   ]
  },
  {
   "cell_type": "code",
   "execution_count": 86,
   "metadata": {
    "collapsed": false
   },
   "outputs": [],
   "source": [
    "data_human = np.zeros((n_classes, n_participants))\n",
    "\n",
    "for p_id, ann in human_anns.items():\n",
    "    for img, entry in ann.items():\n",
    "        \n",
    "        gt = entry['gt']\n",
    "        label = entry['label']\n",
    "        p = participant_ids.index(p_id)\n",
    "        data_human[gt, p] += (gt == label)\n",
    "\n",
    "# each participant saw 6 images from each class\n",
    "data_human = data_human / (n_images / n_classes)\n",
    "\n",
    "data_NN = np.zeros((n_classes, n_nets))\n",
    "\n",
    "for name, ann in NN_anns.items():\n",
    "    for img, entry in ann.items():\n",
    "        \n",
    "        gt = entry['gt']\n",
    "        label = entry['label']\n",
    "        n = net_names.index(name)\n",
    "        data_NN[gt, n] += (gt == label)\n",
    "\n",
    "# each participant saw 6 images from each class\n",
    "data_NN = data_NN / (n_images / n_classes)"
   ]
  },
  {
   "cell_type": "code",
   "execution_count": 87,
   "metadata": {
    "collapsed": false
   },
   "outputs": [],
   "source": [
    "# compare performance by class for both human and NN\n",
    "# class acc +/- 1 std.\n",
    "\n",
    "ind = np.arange(n_classes)\n",
    "means_human = np.mean(data_human, axis=1)\n",
    "means_NN = np.mean(data_NN, axis=1)\n",
    "std_human = np.std(data_human, axis=1)\n",
    "std_NN = np.std(data_NN, axis=1)\n",
    "\n",
    "plt.figure()\n",
    "plt.bar(ind-0.2, means_human, 0.4, yerr=std_human, label='human')\n",
    "plt.bar(ind+0.2, means_NN, 0.4, yerr=std_NN, label='NN')\n",
    "plt.xticks(ind, class_names)\n",
    "plt.title(\"Performance by Class ($\\pm 1 \\sigma$)\")\n",
    "plt.xlabel(\"Class\")\n",
    "plt.ylabel(\"Accuracy\")\n",
    "plt.legend(bbox_to_anchor=(1, 1.05))\n",
    "plt.savefig(\"results/performance_by_class.svg\", format='svg')"
   ]
  },
  {
   "cell_type": "code",
   "execution_count": 88,
   "metadata": {
    "collapsed": false,
    "scrolled": false
   },
   "outputs": [
    {
     "data": {
      "image/png": "[encoded data removed]",
      "text/plain": [
       "<matplotlib.figure.Figure at 0x2e203823ac8>"
      ]
     },
     "metadata": {},
     "output_type": "display_data"
    },
    {
     "data": {
      "image/png": "[encoded data removed]",
      "text/plain": [
       "<matplotlib.figure.Figure at 0x2e203693630>"
      ]
     },
     "metadata": {},
     "output_type": "display_data"
    }
   ],
   "source": [
    "# compare human performance by participant\n",
    "\n",
    "ind = np.arange(n_participants)\n",
    "means = np.mean(data_human, axis=0)\n",
    "\n",
    "plt.figure()\n",
    "plt.bar(ind, means, 0.4)\n",
    "plt.xticks(ind, [\"%d\" % p_id for p_id in participant_ids])\n",
    "plt.title(\"Human Performance (by participant)\")\n",
    "plt.xlabel(\"Participant ID\")\n",
    "plt.ylabel(\"Accuracy\")\n",
    "plt.ylim(0, 1)\n",
    "plt.show()"
   ]
  },
  {
   "cell_type": "code",
   "execution_count": 89,
   "metadata": {
    "collapsed": false
   },
   "outputs": [
    {
     "data": {
      "image/png": "[encoded data removed]",
      "text/plain": [
       "<matplotlib.figure.Figure at 0x2e20348ab70>"
      ]
     },
     "metadata": {},
     "output_type": "display_data"
    }
   ],
   "source": [
    "# NN performance by participant\n",
    "\n",
    "ind = np.arange(n_nets)\n",
    "means = np.mean(data_NN, axis=0)\n",
    "\n",
    "plt.figure()\n",
    "plt.bar(ind, means, 0.4)\n",
    "plt.xticks(ind, [\"%s\" % name for name in net_names], rotation='vertical')\n",
    "plt.title(\"NN Performance (by network)\")\n",
    "plt.xlabel(\"Net Name\")\n",
    "plt.ylabel(\"Accuracy\")\n",
    "plt.ylim(0, 1)\n",
    "plt.show()"
   ]
  },
  {
   "cell_type": "code",
   "execution_count": 90,
   "metadata": {
    "collapsed": true
   },
   "outputs": [],
   "source": [
    "# human annotation distribution per image\n",
    "distribution_human = np.zeros((n_images, n_classes))\n",
    "\n",
    "for p_id, ann in human_anns.items():\n",
    "    for img_id, entry in ann.items():\n",
    "        \n",
    "        i = image_ids.index(img_id)\n",
    "        label = entry['label']\n",
    "        distribution_human[i][label] += 1\n",
    "        \n",
    "# set row sums to 1\n",
    "distribution_human = distribution_human / n_participants"
   ]
  },
  {
   "cell_type": "code",
   "execution_count": 91,
   "metadata": {
    "collapsed": true
   },
   "outputs": [],
   "source": [
    "# NN prediction distribution per image\n",
    "distribution_NN = np.zeros((n_images, n_classes))\n",
    "\n",
    "for p_id, ann in NN_anns.items():\n",
    "    for img_id, entry in ann.items():\n",
    "        \n",
    "        i = image_ids.index(img_id)\n",
    "        label = entry['label']\n",
    "        distribution_NN[i][label] += 1\n",
    "\n",
    "# set row sums to 1\n",
    "distribution_NN = distribution_NN / n_nets"
   ]
  },
  {
   "cell_type": "code",
   "execution_count": 92,
   "metadata": {
    "collapsed": false
   },
   "outputs": [],
   "source": [
    "# Human vs. NN performance by image difficulty rank\n",
    "image_accs_human = [dist[true] for dist, true in zip(distribution_human, image_labels)]\n",
    "image_accs_human.sort(reverse=True)\n",
    "\n",
    "image_accs_NN = [dist[true] for dist, true in zip(distribution_NN, image_labels)]\n",
    "image_accs_NN.sort(reverse=True)\n",
    "\n",
    "plt.figure()\n",
    "plt.plot(1+np.arange(n_images), image_accs_human, label='human')\n",
    "plt.plot(1+np.arange(n_images), image_accs_NN, label='NN')\n",
    "plt.title(\"Difficulty Dropoff\")\n",
    "plt.xlabel(\"Image Rank\")\n",
    "plt.ylabel(\"Image Accuracy\")\n",
    "plt.legend()\n",
    "plt.savefig(\"results/difficulty_dropoff.svg\", format='svg')"
   ]
  },
  {
   "cell_type": "code",
   "execution_count": 93,
   "metadata": {
    "collapsed": false
   },
   "outputs": [],
   "source": [
    "# Human confusion matrix (all annotators)\n",
    "confusion = confusion_matrix(image_labels, distribution_human, n_classes)\n",
    "\n",
    "# https://stackoverflow.com/questions/3529666\n",
    "plt.figure()\n",
    "fig, (ax) = plt.subplots(1, 1, figsize=(10, 10))\n",
    "cax = ax.matshow(confusion)\n",
    "ax.set_title(\"Human Class Confusion (diagonal zeroed)\")\n",
    "ax.set_ylabel('True')\n",
    "ax.set_xlabel('Predicted')\n",
    "ax.set_xticks(np.arange(n_classes))\n",
    "ax.set_yticks(np.arange(n_classes))\n",
    "ax.set_yticklabels(class_names)\n",
    "ax.set_xticklabels(class_names)\n",
    "fig.colorbar(cax, cmap='rgb')\n",
    "\n",
    "plt.savefig(\"results/human_confusion.svg\", format='svg')"
   ]
  },
  {
   "cell_type": "code",
   "execution_count": 94,
   "metadata": {
    "collapsed": false
   },
   "outputs": [],
   "source": [
    "# NN confusion matrix (all networks)\n",
    "confusion = confusion_matrix(image_labels, distribution_NN, n_classes)\n",
    "\n",
    "# https://stackoverflow.com/questions/3529666\n",
    "plt.figure()\n",
    "fig, (ax) = plt.subplots(1, 1, figsize=(10, 10))\n",
    "cax = ax.matshow(confusion)\n",
    "ax.set_title(\"NN Class Confusion (diagonal zeroed)\")\n",
    "ax.set_ylabel('True')\n",
    "ax.set_xlabel('Predicted')\n",
    "ax.set_xticks(np.arange(n_classes))\n",
    "ax.set_yticks(np.arange(n_classes))\n",
    "ax.set_yticklabels(class_names)\n",
    "ax.set_xticklabels(class_names)\n",
    "fig.colorbar(cax, cmap='rgb')\n",
    "\n",
    "plt.savefig(\"results/NN_confusion.svg\", format='svg')"
   ]
  },
  {
   "cell_type": "code",
   "execution_count": 95,
   "metadata": {
    "collapsed": false
   },
   "outputs": [],
   "source": [
    "# human difficulty ranking vs NN difficulty ranking\n",
    "\n",
    "image_human = np.zeros((n_images, n_participants))\n",
    "\n",
    "for p_id, ann in human_anns.items():\n",
    "    for img, entry in ann.items():\n",
    "        \n",
    "        img_id = image_ids.index(img)\n",
    "        gt = entry['gt']\n",
    "        label = entry['label']\n",
    "        p = participant_ids.index(p_id)\n",
    "        image_human[img_id, p] += (gt == label)\n",
    "\n",
    "# get image indices by bin\n",
    "img_percentile = {\n",
    "    0.0: [9086, 6104, 839, 673, 267, 1650, 2445, 6149, 8195, 3982], \n",
    "    0.2: [7863, 6550, 6170, 3456, 6362, 7433, 772, 2663, 1742, 5772], \n",
    "    0.4: [7811, 1493, 1709, 6075, 805, 5549, 9166, 6504, 7088, 6557], \n",
    "    0.6: [1912, 8645, 2938, 5986, 6802, 7539, 95, 5246, 2, 7578], \n",
    "    0.8: [2704, 6300, 972, 4864, 7410, 925, 6443, 7669, 9291, 2186], \n",
    "    1.0: [1072, 7638, 5324, 2405, 6753, 4139, 3615, 1100, 7217, 6522]\n",
    "}\n",
    "n_bins = len(img_percentile)\n",
    "\n",
    "img_ids_percentile = {\n",
    "    p: [image_ids.index(img_id) for img_id in id_list]\n",
    "        for (p, id_list) in img_percentile.items()\n",
    "}\n",
    "\n",
    "# X = NN difficulty bins\n",
    "# Y = Human acc. over images in the bin, error bar over humans\n",
    "bin_names = [\"%.1f\" % p for p in img_percentile]\n",
    "errs_per_bin = []\n",
    "accs_per_bin = []\n",
    "\n",
    "for p, img_ids in img_ids_percentile.items():\n",
    "    \n",
    "    acc_per_person = np.mean(image_human[img_ids, :], axis=0)\n",
    "    \n",
    "    accs_per_bin.append(np.mean(acc_per_person))\n",
    "    errs_per_bin.append(np.std(acc_per_person))\n",
    "\n",
    "ind = np.arange(n_bins)\n",
    "plt.figure()\n",
    "plt.bar(ind, accs_per_bin, 0.4, yerr=errs_per_bin)\n",
    "plt.xticks(ind, bin_names)\n",
    "plt.title(\"Human and NN Difficulty Trend ($\\pm 1 \\sigma$)\")\n",
    "plt.xlabel(\"NN Loss Percentile\")\n",
    "plt.ylabel(\"Human Accuracy\")\n",
    "plt.savefig(\"results/difficulty_trend.svg\", format='svg')"
   ]
  },
  {
   "cell_type": "code",
   "execution_count": null,
   "metadata": {
    "collapsed": true
   },
   "outputs": [],
   "source": []
  }
 ],
 "metadata": {
  "kernelspec": {
   "display_name": "Python 3",
   "language": "python",
   "name": "python3"
  },
  "language_info": {
   "codemirror_mode": {
    "name": "ipython",
    "version": 3
   },
   "file_extension": ".py",
   "mimetype": "text/x-python",
   "name": "python",
   "nbconvert_exporter": "python",
   "pygments_lexer": "ipython3",
   "version": "3.6.7"
  }
 },
 "nbformat": 4,
 "nbformat_minor": 2
}
