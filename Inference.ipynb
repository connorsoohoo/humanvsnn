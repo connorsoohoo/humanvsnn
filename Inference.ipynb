{
 "cells": [
  {
   "cell_type": "code",
   "execution_count": 36,
   "metadata": {},
   "outputs": [],
   "source": [
    "# Import needed packages\n",
    "import torch\n",
    "import torch.nn as nn\n",
    "from torchvision.transforms import transforms\n",
    "from torchvision.datasets import CIFAR10\n",
    "from torch.utils.data import DataLoader\n",
    "import matplotlib.pyplot as plt\n",
    "import numpy as np\n",
    "from torch.autograd import Variable\n",
    "from net import *"
   ]
  },
  {
   "cell_type": "code",
   "execution_count": 37,
   "metadata": {},
   "outputs": [],
   "source": [
    "# CIFAR 10 classes in order\n",
    "classes = ('plane', 'car', 'bird', 'cat',\n",
    "           'deer', 'dog', 'frog', 'horse', 'ship', 'truck')"
   ]
  },
  {
   "cell_type": "code",
   "execution_count": 38,
   "metadata": {},
   "outputs": [
    {
     "data": {
      "text/plain": [
       "SimpleNet(\n",
       "  (net): Sequential(\n",
       "    (0): Unit(\n",
       "      (conv): Conv2d(3, 32, kernel_size=(3, 3), stride=(1, 1), padding=(1, 1))\n",
       "      (bn): BatchNorm2d(32, eps=1e-05, momentum=0.1, affine=True, track_running_stats=True)\n",
       "      (relu): ReLU()\n",
       "    )\n",
       "    (1): MaxPool2d(kernel_size=32, stride=32, padding=0, dilation=1, ceil_mode=False)\n",
       "  )\n",
       "  (fc): Linear(in_features=32, out_features=10, bias=True)\n",
       ")"
      ]
     },
     "execution_count": 38,
     "metadata": {},
     "output_type": "execute_result"
    }
   ],
   "source": [
    "\n",
    "\"\"\" Instantiate model, this downloads tje 4.7 mb  squzzene the first time it is called.\n",
    "To use with your own model, re-define your trained networks ad load weights as below\n",
    "checkpoint = torch.load(\"pathtosavemodel\")\n",
    "model = SimpleNet(num_classes=10)\n",
    "model.load_state_dict(checkpoint)\n",
    "model.eval()\n",
    "\"\"\"\n",
    "\n",
    "checkpoint = torch.load(\"models/cifar10_1layers_32channels_epoch9.model\")\n",
    "model = SimpleNet(num_classes=10)\n",
    "model.load_state_dict(checkpoint)\n",
    "model.eval()"
   ]
  },
  {
   "cell_type": "code",
   "execution_count": 39,
   "metadata": {},
   "outputs": [],
   "source": [
    "# Predicts a given image\n",
    "def predict_image(image_tensor):\n",
    "    print(\"Prediction in progress\")\n",
    "\n",
    "    if torch.cuda.is_available():\n",
    "        image_tensor.cuda()\n",
    "\n",
    "    # Turn the input into a Variable\n",
    "    input = Variable(image_tensor)\n",
    "\n",
    "    # Predict the class of the image\n",
    "    output = model(input)\n",
    "    print(output)\n",
    "    index = output.data.numpy().argmax()\n",
    "\n",
    "    return index"
   ]
  },
  {
   "cell_type": "code",
   "execution_count": 40,
   "metadata": {},
   "outputs": [
    {
     "name": "stdout",
     "output_type": "stream",
     "text": [
      "Files already downloaded and verified\n",
      "Prediction in progress\n",
      "tensor([[ 0.8905,  0.2973,  0.7494,  1.5389, -0.2012,  1.9713, -1.7139, -1.1065,\n",
      "          1.1292, -1.4401]], grad_fn=<AddmmBackward>)\n",
      "Predicted Class 5: Actual Class 3\n",
      "Prediction in progress\n",
      "tensor([[ 0.5693,  3.0169, -1.5151, -0.1009, -3.7500,  0.9151, -4.5564, -0.1970,\n",
      "          2.8849,  2.6096]], grad_fn=<AddmmBackward>)\n",
      "Predicted Class 1: Actual Class 8\n",
      "Prediction in progress\n",
      "tensor([[ 2.1743,  0.4126, -0.7805, -0.3309, -1.6924, -0.4971, -2.2978, -1.8465,\n",
      "          4.5636,  1.3130]], grad_fn=<AddmmBackward>)\n",
      "Predicted Class 8: Actual Class 8\n",
      "Prediction in progress\n",
      "tensor([[ 1.9447,  1.5132, -0.0418, -0.4418, -1.6817,  0.0707, -2.2343, -0.8734,\n",
      "          3.1662,  0.8963]], grad_fn=<AddmmBackward>)\n",
      "Predicted Class 8: Actual Class 0\n",
      "Prediction in progress\n",
      "tensor([[-0.7552, -1.5844,  1.9645,  0.9720,  3.1564,  1.5989,  3.3489,  1.5314,\n",
      "         -1.6788, -2.6464]], grad_fn=<AddmmBackward>)\n",
      "Predicted Class 6: Actual Class 6\n",
      "Prediction in progress\n",
      "tensor([[-0.4075, -0.9011,  0.7457,  2.3385,  1.7099,  1.9736,  2.6932,  0.7656,\n",
      "         -1.7588, -1.5467]], grad_fn=<AddmmBackward>)\n",
      "Predicted Class 6: Actual Class 6\n",
      "Prediction in progress\n",
      "tensor([[-0.7171,  5.3352, -1.0066,  2.6302, -4.2490,  2.8847, -2.3159,  0.3440,\n",
      "         -2.4282,  1.5370]], grad_fn=<AddmmBackward>)\n",
      "Predicted Class 1: Actual Class 1\n",
      "Prediction in progress\n",
      "tensor([[ 0.1900, -0.6020,  0.4181,  0.5424,  0.5036,  1.2724,  0.2634,  1.3061,\n",
      "          0.1130, -1.0758]], grad_fn=<AddmmBackward>)\n",
      "Predicted Class 7: Actual Class 6\n",
      "Prediction in progress\n",
      "tensor([[-1.0258, -1.4833,  1.3302,  2.5066,  2.4391,  2.7013,  0.4844,  1.3598,\n",
      "         -1.0036, -2.5593]], grad_fn=<AddmmBackward>)\n",
      "Predicted Class 5: Actual Class 3\n",
      "Prediction in progress\n",
      "tensor([[ 1.0601,  1.7250,  0.1900,  0.7908, -1.9602,  0.7323, -1.8392, -1.6492,\n",
      "          2.1294,  0.8409]], grad_fn=<AddmmBackward>)\n",
      "Predicted Class 8: Actual Class 1\n",
      "Prediction in progress\n",
      "tensor([[ 3.0275, -1.0677,  0.2145,  0.2406,  0.0262,  0.5619, -1.0564, -1.8191,\n",
      "          4.1166, -1.4900]], grad_fn=<AddmmBackward>)\n",
      "Predicted Class 8: Actual Class 0\n",
      "Prediction in progress\n",
      "tensor([[ 0.3515,  0.9632, -1.2143, -0.0866, -0.2010, -0.6458, -1.6613,  1.8180,\n",
      "          0.8768,  2.2603]], grad_fn=<AddmmBackward>)\n",
      "Predicted Class 9: Actual Class 9\n",
      "Exiting\n"
     ]
    }
   ],
   "source": [
    "# Define transformations for the image, right now just converting to tensor\n",
    "transformation = transforms.Compose([\n",
    "    transforms.ToTensor()\n",
    "])\n",
    "\n",
    "\n",
    "# Load the test set, note that train is set to False\n",
    "test_set = CIFAR10(root=\"data\", train=False, transform=transformation, download=True)\n",
    "\n",
    "# Create a temp dataset loader just to load images, with batch size 1\n",
    "test_loader = DataLoader(test_set, batch_size=1,shuffle=False, num_workers=1)\n",
    "\n",
    "for i, (image, label) in enumerate(test_loader):\n",
    "    \n",
    "    index = predict_image(image)\n",
    "    print(\"Predicted Class {0}: Actual Class {1}\".format(index, label.data[0]))\n",
    "\n",
    "    if i > 10:\n",
    "        print(\"Exiting\")\n",
    "        break"
   ]
  }
 ],
 "metadata": {
  "kernelspec": {
   "display_name": "Python 3",
   "language": "python",
   "name": "python3"
  },
  "language_info": {
   "codemirror_mode": {
    "name": "ipython",
    "version": 3
   },
   "file_extension": ".py",
   "mimetype": "text/x-python",
   "name": "python",
   "nbconvert_exporter": "python",
   "pygments_lexer": "ipython3",
   "version": "3.7.3"
  }
 },
 "nbformat": 4,
 "nbformat_minor": 2
}
